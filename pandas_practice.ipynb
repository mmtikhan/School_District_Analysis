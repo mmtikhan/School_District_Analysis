{
 "cells": [
  {
   "cell_type": "code",
   "execution_count": 17,
   "id": "023d9f5a",
   "metadata": {},
   "outputs": [],
   "source": [
    "high_schools = [\"Huang High School\",  \"Figueroa High School\", \"Shelton High School\", \"Hernandez High School\",\"Griffin High School\",\"Wilson High School\", \"Cabrera High School\", \"Bailey High School\", \"Holden High School\", \"Pena High School\", \"Wright High School\",\"Rodriguez High School\", \"Johnson High School\", \"Ford High School\", \"Thomas High School\"]"
   ]
  },
  {
   "cell_type": "code",
   "execution_count": null,
   "id": "0bd35728",
   "metadata": {},
   "outputs": [],
   "source": [
    "# Add the Pandas dependency.\n",
    "import pandas as pd"
   ]
  },
  {
   "cell_type": "code",
   "execution_count": null,
   "id": "ad47aa4b",
   "metadata": {},
   "outputs": [],
   "source": [
    "# Create a Pandas Series from a list.\n",
    "school_series = pd.Series(high_schools)"
   ]
  },
  {
   "cell_type": "code",
   "execution_count": 20,
   "id": "fe3c029f",
   "metadata": {},
   "outputs": [
    {
     "ename": "NameError",
     "evalue": "name 'pandas' is not defined",
     "output_type": "error",
     "traceback": [
      "\u001b[1;31m---------------------------------------------------------------------------\u001b[0m",
      "\u001b[1;31mNameError\u001b[0m                                 Traceback (most recent call last)",
      "Input \u001b[1;32mIn [20]\u001b[0m, in \u001b[0;36m<cell line: 2>\u001b[1;34m()\u001b[0m\n\u001b[0;32m      1\u001b[0m \u001b[38;5;66;03m# Create a Pandas Series from a list.\u001b[39;00m\n\u001b[1;32m----> 2\u001b[0m school_series \u001b[38;5;241m=\u001b[39m \u001b[43mpandas\u001b[49m\u001b[38;5;241m.\u001b[39mSeries(high_schools)\n\u001b[0;32m      3\u001b[0m school_series\n",
      "\u001b[1;31mNameError\u001b[0m: name 'pandas' is not defined"
     ]
    }
   ],
   "source": [
    "# Create a Pandas Series from a list.\n",
    "school_series = pandas.Series(high_schools)\n",
    "school_series"
   ]
  },
  {
   "cell_type": "code",
   "execution_count": null,
   "id": "5a61f405",
   "metadata": {},
   "outputs": [],
   "source": []
  }
 ],
 "metadata": {
  "kernelspec": {
   "display_name": "Python 3 (ipykernel)",
   "language": "python",
   "name": "python3"
  },
  "language_info": {
   "codemirror_mode": {
    "name": "ipython",
    "version": 3
   },
   "file_extension": ".py",
   "mimetype": "text/x-python",
   "name": "python",
   "nbconvert_exporter": "python",
   "pygments_lexer": "ipython3",
   "version": "3.9.7"
  }
 },
 "nbformat": 4,
 "nbformat_minor": 5
}
